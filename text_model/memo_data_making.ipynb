{
 "cells": [
  {
   "cell_type": "code",
   "execution_count": 1,
   "id": "833b047b",
   "metadata": {},
   "outputs": [],
   "source": [
    "#kobert data making\n",
    "mj = [\n",
    "'올반 슈크림 붕어빵',\n",
    "'핀과 제이크',\n",
    "'티미의 수호천사',\n",
    "'케이크 만들러가기',\n",
    "'예술의 전당 당일할인티켓하면 만원대에 볼 수 있따',\n",
    "'오이도',\n",
    "'송도공원',\n",
    "'옷 가방 신발 주문하기',\n",
    "'블로그/벨로그-정처기, 휴학회고록, 1학기 회고록, 2학기 목표, 공모전 준비 피드백 및 결과, C언어 문제 정리, 취업관련 정리하기',\n",
    "'운동화 고르기',\n",
    "'구글드라이브 정리하기',\n",
    "'포항은 꼭 풀 빌라로 가기',\n",
    "'클라이밍 양국 사격장 가고 싶다',\n",
    "'오메가3 비타민e',\n",
    "'바다갓 노래 추가',\n",
    "'미금역 유부남(유부초밥 종류 다양함)',\n",
    "'겨울에 제주도여행가기',\n",
    "'일본 지브리미술관가고싶다',\n",
    "'영월가면 산골초가펜션',\n",
    "'제쳔에는 포레스트리솜'\n",
    "]\n",
    "\n",
    "yw = [\n",
    "'감자샐러드 냉동(나중에 고로케 해먹기)',\n",
    "'불고기 해동',\n",
    "'아점으로 월남쌈 먹기',\n",
    "'아이스커피 챙겨서 학교가기',\n",
    "'옷방청소(안입는 옷 정리-기부/당근)',\n",
    "'저녁밥 하기',\n",
    "'앙꼬 눈꼽 떼기',\n",
    "'쌀가루 마들렌',\n",
    "'초코 마시멜로우 쿠키',\n",
    "'쌀가루 롤케이크(딸기쨈 넣어서!)',\n",
    "'바게트 피자',\n",
    "'바게트 마늘빵'\n",
    "]\n",
    "\n",
    "hw = [\n",
    "'코틀린 버전 알아내기',\n",
    "'카톡방에 알려주기'\n",
    "'고양이에게 안 좋음 (백합과,백합, 튤립,진달래, 철쭉, 아이리스, 하이신스, 안개꽃, 사프란(크로커스), 은방울꽃)',\n",
    "'내 마음대로 counter를 설계하는 것 (시험 문제***) - rf. Figure 12-22 / table 12-3 참고 (T Flip-Flops)',\n",
    " '시험범위 : SR 제외',\n",
    "'JK 시험 출제 가능성 높음 p405',\n",
    "'떡볶이',\n",
    "'맥날',\n",
    "'파스타',\n",
    "'이삭',\n",
    "'닭강정',\n",
    "'마라탕',\n",
    "'피자 (작은거... / 고피자 / 피자스쿨)',\n",
    "'역전우동'  \n",
    "]\n",
    "jb = [\n",
    "'대화하는것처럼 나오는 채팅방',\n",
    "'유튜브 썸네일에 있는걸 해시태그화',\n",
    "'우체국에서 이름, 주소등을 인식하여 자동기입',\n",
    "'물건이 어디있는지 사진에서 찾아주기',\n",
    "'대화수를 조회해서 친구창안에 대화상대 추천',\n",
    "'휴대폰속 노래 장르 나누기',\n",
    "'같은기간 사용한 전자제품이 있다 하나는 고장났던걸 고쳤고 하나는 고장안났으면 어떤걸 살건지',\n",
    "'광고중에 노래추천을 하는데 실시간 순위가 적용되도록 or 추천시스템이 적용되어 나오더록',\n",
    "'롤 아이템 패치에 따른 영향도 분석 프로그램',\n",
    "'디지털 레이저 볼펜',\n",
    "'코로나 통계에 따른 여행지 추천서비스',\n",
    "'깃허브 홈페이지에 추천시스템 적용',\n",
    "'하관예측모델(마스크때문에)',\n",
    "'여러종류의 마스크중 어떤얘를 쓰고나가는게 좋을지(정화능력이 다르니까)',\n",
    "'시간표 추천시스템',\n",
    "'스캔할때 먼지 제거 모델',\n",
    "'온도는 운동에너지?',\n",
    "'포켓몬 분류',\n",
    "'수학부호를 쉽게 쓸수있는방법?',\n",
    "'Mbti 검사결과를 이용한 추천시스템',\n",
    "'악보를 자동으로 넘겨주는 기능',\n",
    "'볼무브 트레이싱',\n",
    "'풀라스틱 분해효소를 방출하는 종이 컵(텀블러 부착용)',\n",
    "'노트북전원 노트북안열고 킬수있는 usb',\n",
    "'Integer를 나눠서 float로',\n",
    "'프로필사진과 상태메세지를 보고 기분 예측',\n",
    "'마스크부분 하관 예측하기 (얼굴인식이 필요할 경우 대비)',\n",
    "'학습을 위한 이미지 포맷',\n",
    "'모델이 제대로 만들어졌다는 기준'\n",
    "'멀리서 크게 말하고있다는걸 어떻게 구분할까',\n",
    "'Nlp 프로젝트 이용해서 text가 positive인지 negative에 가까운지 좀더 자세하게 분류가 가능하기때문에 이걸 recommendation system에 이용',\n",
    "'중립 기사를 원하는 사람들을 위한 추천시스템',\n",
    "'Well trained discriminator는 말그대로 잠금장치로써 활용될 수있지않을까',\n",
    "'해당 discriminator에 진짜로 등록된 이미지가 들어가고 또 다른 본인이 아닌 이미지가 들어갔을때',\n",
    "'동구라미 네모와 같으면 남기기 퍼센트지',\n",
    "'노래를 그림으로 그리기',\n",
    "'기억은 뇌세포들의 linear combination',\n",
    "'맥도날드 음성인식 주문입력 시스템',\n",
    "'결과에 따른 주문 현황을 스크린으로 출력, 음성으로 수정과 입력 주문완료가 가능하더록',\n",
    "'자동 배달예상시간 입력 시스템',\n",
    "'바탕화면에 폴더만들어주는 자비스',\n",
    "'본인 목소리로 해당노래를 불러ㅗ면 어떨지 만들어주는 프로그램',\n",
    "'Cpu구조에 비유한 자기소개'\n",
    "]"
   ]
  },
  {
   "cell_type": "code",
   "execution_count": null,
   "id": "82378904",
   "metadata": {},
   "outputs": [],
   "source": [
    "je =\n",
    "[\n",
    "'지햔이한테 4250 곱하기 3 넷플릭스비',\n",
    "'티빙 수금 세달치 16350',\n",
    "'예치과 예약',\n",
    "'잼회 2-135 참고에 그림 그려서 붙이기',\n",
    "'씨파 영어 점수 입력 언제인지',\n",
    "'월세', #월세 > 이런것들은 파이썬으로도 알람 보낼 수 있도록 하기\n",
    "'스킨푸드 에센스 리필',\n",
    "'공과금! 우체통 확인', #느낌표를 붙인 것들은 따로 알람을 보내도록 하는게 어떤지\n",
    "'수요일에 점심 약속 있다!',\n",
    "'재재금관피해, 자본화차입원가, 유형자산 교환취득 복습',\n",
    "'눈소김 연락'\n",
    "]\n",
    "sy = [\n",
    "'인간의 본질을 만드는 것은 대답이 아니라 질문이다.',\n",
    "'따라서 자유는 사실이라기보다 가능성이다.',\n",
    "'인쇄 맡기기 전 체크 - 혹시 모르니깐 표지 규격 사이즈로 하나 더 만들어놓기',\n",
    "'인쇄 맡기기 전 체크 - 배경 빼고 표지 조각들 다 그룹화',\n",
    "'인쇄 맡기기 전 체크 - 표지/내지 글자들 다 아웃라인 따기 - 함 여쭈어 보고',\n",
    "'14장: ALMA(Atacama) - 칠레 아타가마 사막, 접시 66개, 대한민국 참여, 2조 가량의 최대 예산, VLA, 뉴턴 운동의 법칙 제 3-작용 반작용의 법칙, 로켓 발명 최초의나라-중국(비화창), 고려-주화, 조선-신기전(무기)',\n",
    "'10장: 광학 망원경-갈케뉴카, 굴절 망원경-렌즈,갈릴레이/케플러,반사 망원경-거울,뉴트/카서그레인',\n",
    "'스토리보드 좀 더 보완하기',\n",
    "'퀘스트,미션->게임을 진행하는 느낌이 들도록(게임 구성에 대해 좀 더 집중하기)',\n",
    "'태양과 달은 게임에 영향을 끼치는 애들이 아니면 빼도 될 것 같아',\n",
    "'확 논다는 느낌이 날 수 있게끔. 주말을 만끽하는',\n",
    "'송경동,고귀한 유산',\n",
    "'장석남, 수묵정원 9',\n",
    "'오은, 너',\n",
    "'최승자, 20년 후에, 지에게',\n",
    "'심보선, 청춘',\n",
    "]\n",
    "sy = [\n",
    "'현시선 수시과제 했니?',\n",
    "'현시선독 수시과제',\n",
    "'국어형태론 댓글 남겼니?',\n",
    "'심기초 II 출석',\n",
    "'국연지 댓글',\n",
    "'강의 자료 정리하기',\n",
    "'다이소 스케치북, 마커 가격',\n",
    "'제임스키친 일정',\n",
    "'지연 교재 선정',\n",
    "'현소선 황순원 소설 읽기 - 9.14',\n",
    "'교환학생 알아보기',\n",
    "'정현이 커리큘럼 정리',\n",
    "'작교론 강의 영상 -9.15(권장)-9/17(기한)',\n",
    "'월급 입금',\n",
    "'재학증명서, 학생증',\n",
    "'국노논 필기 댓글!'\n",
    "'근대조선 독립신문 과제',\n",
    "'행복 에세이 퇴고, 제출',\n",
    "'정보적 사고 특강',\n",
    "'교통카드 챙겨오기',\n",
    "'사감실 매점쿠폰 받기'\n",
    "]\n",
    "\n",
    "sm = [\n",
    "'mbc 창작동화대상: 그림책(40쪽 내외)',\n",
    "'마해송문학상(문학과지성사) --> 장편동화 및 단편집',\n",
    "'앤서니브라운 그림책 공모전(현북스) --> 9.30',\n",
    "'먼지 일기 공모화',\n",
    "'먼지 일기 원고화',\n",
    "'먼지 일기 고퀄화',\n",
    "'창비 신인소설(5.31)',\n",
    "'창비 좋은 어린이책 원고 공모 --> 저/고학년 대상 미발표 창작우너고(6.30)',\n",
    "'부여된 생명성을 얘기하는 식물들 우리를 위해 식물을 이용해도 되는가?',\n",
    "'한강물이 마치 거미줄더미 같아보였어 그 거미줄을 짜는건 누굴까? 뛰어드는 사람은 거미?',\n",
    "'네모난 원 동그라미 동그란 세모 세모난 세모',\n",
    "'나에 대해서만 생각하는 그시간이, 딴생각이라고만 여거질까?그건 인간에게, 없어선 안되는걸.공허함은 두려운거지만 싫은 기억이고 생각이라고 잊어선 안되는거야.',\n",
    "'도시의 불빛이 좋은건 그날의 돌아오는 기차에서 바라본 빛이 마음에 박혀서야',\n",
    "'찰나에만 얻어지는 바다젤리 바다젤리를 구하기 위한 도전',\n",
    "'바르셀로나의 밤바다와 달리, 오늘 양양의 바다는 나를 받아줄 것만 같아.',\n",
    "'모래성을 짓는 건 어려운 일이야 너무 물이 많아도, 없어도 성은 지어지지 않아 모래와 물이 적당히 섞여야해. 그 적당한 정도가 얼만큼일지, 해보기전까진 알 수 없지',\n",
    "'김선호(12)-초5 백련산힐스테이트4차 406동 1401호',\n",
    "'글쓰기보다는 말하면서 생각키우기 위주',\n",
    "'단편영화/지식채널e/역사만화/심리테스트/사회이슈 꺼내서 얘기로 수업대체',\n",
    "\n",
    "]"
   ]
  },
  {
   "cell_type": "code",
   "execution_count": 4,
   "id": "9d9e216d",
   "metadata": {},
   "outputs": [
    {
     "name": "stdout",
     "output_type": "stream",
     "text": [
      "Collecting package metadata (current_repodata.json): done\n",
      "Solving environment: done\n",
      "\n",
      "\n",
      "==> WARNING: A newer version of conda exists. <==\n",
      "  current version: 4.12.0\n",
      "  latest version: 23.5.0\n",
      "\n",
      "Please update conda by running\n",
      "\n",
      "    $ conda update -n base -c defaults conda\n",
      "\n",
      "\n",
      "\n",
      "## Package Plan ##\n",
      "\n",
      "  environment location: /home/ines/anaconda3/envs/ball\n",
      "\n",
      "  added / updated specs:\n",
      "    - pandas\n",
      "\n",
      "\n",
      "The following packages will be downloaded:\n",
      "\n",
      "    package                    |            build\n",
      "    ---------------------------|-----------------\n",
      "    bottleneck-1.3.5           |   py39h7deecbd_0         115 KB\n",
      "    numexpr-2.8.4              |   py39hc78ab66_1         136 KB\n",
      "    pandas-1.5.3               |   py39h417a72b_0        12.0 MB\n",
      "    ------------------------------------------------------------\n",
      "                                           Total:        12.2 MB\n",
      "\n",
      "The following NEW packages will be INSTALLED:\n",
      "\n",
      "  bottleneck         pkgs/main/linux-64::bottleneck-1.3.5-py39h7deecbd_0\n",
      "  numexpr            pkgs/main/linux-64::numexpr-2.8.4-py39hc78ab66_1\n",
      "  pandas             pkgs/main/linux-64::pandas-1.5.3-py39h417a72b_0\n",
      "\n",
      "\n",
      "\n",
      "Downloading and Extracting Packages\n",
      "numexpr-2.8.4        | 136 KB    | ##################################### | 100% \n",
      "pandas-1.5.3         | 12.0 MB   | ##################################### | 100% \n",
      "bottleneck-1.3.5     | 115 KB    | ##################################### | 100% \n",
      "Preparing transaction: done\n",
      "Verifying transaction: done\n",
      "Executing transaction: done\n",
      "\n",
      "Note: you may need to restart the kernel to use updated packages.\n"
     ]
    }
   ],
   "source": [
    "conda install pandas"
   ]
  },
  {
   "cell_type": "code",
   "execution_count": 13,
   "id": "72357ce7",
   "metadata": {},
   "outputs": [
    {
     "data": {
      "text/plain": [
       "7"
      ]
     },
     "execution_count": 13,
     "metadata": {},
     "output_type": "execute_result"
    }
   ],
   "source": [
    "import pandas as pd\n",
    "\n",
    "root = '/home/ines/Desktop/memo_data'\n",
    "a = pd.read_csv(root)\n",
    "len(a)"
   ]
  },
  {
   "cell_type": "code",
   "execution_count": 36,
   "id": "893ff918",
   "metadata": {},
   "outputs": [
    {
     "data": {
      "text/plain": [
       "[0, 1, 2, 3, 4, 5, 6, 7, 8]"
      ]
     },
     "execution_count": 36,
     "metadata": {},
     "output_type": "execute_result"
    }
   ],
   "source": [
    "[i for i in range(9)]"
   ]
  },
  {
   "cell_type": "code",
   "execution_count": 14,
   "id": "39273006",
   "metadata": {
    "scrolled": true
   },
   "outputs": [
    {
     "data": {
      "text/html": [
       "<div>\n",
       "<style scoped>\n",
       "    .dataframe tbody tr th:only-of-type {\n",
       "        vertical-align: middle;\n",
       "    }\n",
       "\n",
       "    .dataframe tbody tr th {\n",
       "        vertical-align: top;\n",
       "    }\n",
       "\n",
       "    .dataframe thead th {\n",
       "        text-align: right;\n",
       "    }\n",
       "</style>\n",
       "<table border=\"1\" class=\"dataframe\">\n",
       "  <thead>\n",
       "    <tr style=\"text-align: right;\">\n",
       "      <th></th>\n",
       "      <th>__label__1.할일    __label__주문    __label__음식    슈크림 빵 구매 하 기</th>\n",
       "    </tr>\n",
       "  </thead>\n",
       "  <tbody>\n",
       "    <tr>\n",
       "      <th>__label__2.아이디어    __label__의료    약 알러지 있 는 사람 기록</th>\n",
       "      <td>이쪽저쪽 병원 다 지니 지 않 고 병력 사항 을 모두 조회 가능 하 도록</td>\n",
       "    </tr>\n",
       "    <tr>\n",
       "      <th>__label__1.할일    __label__운전제어    __label__일자따라가기    padding 어떻 ㄹ 때 하 는지 얼만큼 하 는지 꼭 물어보 기</th>\n",
       "      <td>NaN</td>\n",
       "    </tr>\n",
       "    <tr>\n",
       "      <th>__label__4.기타    __label__식당    __label__대구    오랜 지 막창</th>\n",
       "      <td>NaN</td>\n",
       "    </tr>\n",
       "    <tr>\n",
       "      <th>__label__1.할일    __label__학교    취업 상담 신청 하 지</th>\n",
       "      <td>NaN</td>\n",
       "    </tr>\n",
       "    <tr>\n",
       "      <th>__label__2.아이디어    __label__앱    대화 맥락 을 파악 하 고 이모 지 를 자동 으로 추천 하 아 주 는 서비스</th>\n",
       "      <td>NaN</td>\n",
       "    </tr>\n",
       "  </tbody>\n",
       "</table>\n",
       "</div>"
      ],
      "text/plain": [
       "                                                   __label__1.할일    __label__주문    __label__음식    슈크림 빵 구매 하 기\n",
       "__label__2.아이디어    __label__의료    약 알러지 있 는 사람 기록            이쪽저쪽 병원 다 지니 지 않 고 병력 사항 을 모두 조회 가능 하 도록         \n",
       "__label__1.할일    __label__운전제어    __label__일자따라...                                                NaN         \n",
       "__label__4.기타    __label__식당    __label__대구    ...                                                NaN         \n",
       "__label__1.할일    __label__학교    취업 상담 신청 하 지                                                      NaN         \n",
       "__label__2.아이디어    __label__앱    대화 맥락 을 파악 하 고...                                                NaN         "
      ]
     },
     "execution_count": 14,
     "metadata": {},
     "output_type": "execute_result"
    }
   ],
   "source": [
    "a.head()"
   ]
  },
  {
   "cell_type": "code",
   "execution_count": 18,
   "id": "4b442ebe",
   "metadata": {},
   "outputs": [
    {
     "name": "stdout",
     "output_type": "stream",
     "text": [
      "Collecting konlpy\n",
      "  Downloading konlpy-0.6.0-py2.py3-none-any.whl (19.4 MB)\n",
      "\u001b[2K     \u001b[38;2;114;156;31m━━━━━━━━━━━━━━━━━━━━━━━━━━━━━━━━━━━━━━━━\u001b[0m \u001b[32m19.4/19.4 MB\u001b[0m \u001b[31m11.0 MB/s\u001b[0m eta \u001b[36m0:00:00\u001b[0mm eta \u001b[36m0:00:01\u001b[0m[36m0:00:01\u001b[0m\n",
      "\u001b[?25hRequirement already satisfied: numpy>=1.6 in /home/ines/anaconda3/envs/ball/lib/python3.9/site-packages (from konlpy) (1.24.3)\n",
      "Collecting JPype1>=0.7.0\n",
      "  Downloading JPype1-1.4.1-cp39-cp39-manylinux_2_12_x86_64.manylinux2010_x86_64.whl (465 kB)\n",
      "\u001b[2K     \u001b[38;2;114;156;31m━━━━━━━━━━━━━━━━━━━━━━━━━━━━━━━━━━━━━━\u001b[0m \u001b[32m465.3/465.3 kB\u001b[0m \u001b[31m10.7 MB/s\u001b[0m eta \u001b[36m0:00:00\u001b[0m MB/s\u001b[0m eta \u001b[36m0:00:01\u001b[0m\n",
      "\u001b[?25hCollecting lxml>=4.1.0\n",
      "  Downloading lxml-4.9.2-cp39-cp39-manylinux_2_17_x86_64.manylinux2014_x86_64.manylinux_2_24_x86_64.whl (7.1 MB)\n",
      "\u001b[2K     \u001b[38;2;114;156;31m━━━━━━━━━━━━━━━━━━━━━━━━━━━━━━━━━━━━━━━━\u001b[0m \u001b[32m7.1/7.1 MB\u001b[0m \u001b[31m11.0 MB/s\u001b[0m eta \u001b[36m0:00:00\u001b[0mm eta \u001b[36m0:00:01\u001b[0m[36m0:00:01\u001b[0m\n",
      "\u001b[?25hRequirement already satisfied: packaging in /home/ines/.local/lib/python3.9/site-packages (from JPype1>=0.7.0->konlpy) (20.9)\n",
      "Requirement already satisfied: pyparsing>=2.0.2 in /home/ines/anaconda3/envs/ball/lib/python3.9/site-packages (from packaging->JPype1>=0.7.0->konlpy) (3.0.9)\n",
      "Installing collected packages: lxml, JPype1, konlpy\n",
      "Successfully installed JPype1-1.4.1 konlpy-0.6.0 lxml-4.9.2\n",
      "Note: you may need to restart the kernel to use updated packages.\n"
     ]
    }
   ],
   "source": [
    "pip install konlpy"
   ]
  },
  {
   "cell_type": "code",
   "execution_count": 32,
   "id": "a7075795",
   "metadata": {},
   "outputs": [
    {
     "name": "stdout",
     "output_type": "stream",
     "text": [
      "['나', '는', '지금', '빵', '을', '먹고있다', '.']\n"
     ]
    },
    {
     "data": {
      "text/plain": [
       "'나'"
      ]
     },
     "execution_count": 32,
     "metadata": {},
     "output_type": "execute_result"
    }
   ],
   "source": [
    "from konlpy.tag import Okt\n",
    "\n",
    "root = '/home/ines/Desktop/memo_data'\n",
    "okt = Okt()\n",
    "\n",
    "print(okt.morphs('나는 지금 빵을 먹고있다.'))\n",
    "a = okt.morphs('나는 지금 빵을 먹고있다.')\n",
    "str(a[0])"
   ]
  },
  {
   "cell_type": "code",
   "execution_count": 2,
   "id": "3b3d3e1c",
   "metadata": {},
   "outputs": [],
   "source": [
    "from konlpy.tag import Okt\n",
    "\n",
    "root = '/home/ines/Desktop/memo_data'\n",
    "okt = Okt()\n",
    "\n",
    "for memo in jb: \n",
    "    with open(root,'a') as file:\n",
    "        memo = okt.morphs(memo)\n",
    "        file.write('__label__    __label__    __label__    {}\\n'.format(\" \".join(memo[i] for i in range(len(memo)))))\n",
    "\n",
    "file.close()"
   ]
  }
 ],
 "metadata": {
  "kernelspec": {
   "display_name": "Python 3 (ipykernel)",
   "language": "python",
   "name": "python3"
  },
  "language_info": {
   "codemirror_mode": {
    "name": "ipython",
    "version": 3
   },
   "file_extension": ".py",
   "mimetype": "text/x-python",
   "name": "python",
   "nbconvert_exporter": "python",
   "pygments_lexer": "ipython3",
   "version": "3.9.12"
  }
 },
 "nbformat": 4,
 "nbformat_minor": 5
}
